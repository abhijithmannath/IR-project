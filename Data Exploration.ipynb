{
 "cells": [
  {
   "cell_type": "code",
   "execution_count": 1,
   "metadata": {
    "collapsed": true
   },
   "outputs": [],
   "source": [
    "import pandas as pd"
   ]
  },
  {
   "cell_type": "code",
   "execution_count": 2,
   "metadata": {
    "collapsed": true
   },
   "outputs": [],
   "source": [
    "% matplotlib inline"
   ]
  },
  {
   "cell_type": "code",
   "execution_count": 2,
   "metadata": {
    "collapsed": true
   },
   "outputs": [],
   "source": [
    "df = pd.read_pickle('IR-data.p')"
   ]
  },
  {
   "cell_type": "code",
   "execution_count": 11,
   "metadata": {
    "collapsed": true
   },
   "outputs": [],
   "source": [
    "## Total 3809 rows, there seem to be missing values in u'author_comment_karma' , u'author_is_gold',\n",
    "##u'author_link_karma', u'author_name', u'type'"
   ]
  },
  {
   "cell_type": "code",
   "execution_count": 46,
   "metadata": {
    "collapsed": false
   },
   "outputs": [
    {
     "data": {
      "text/plain": [
       "Category                3800\n",
       "Category_description    3800\n",
       "author_comment_karma    3800\n",
       "author_is_gold          3800\n",
       "author_link_karma       3800\n",
       "author_name             3694\n",
       "created_utc             3800\n",
       "downs                   3800\n",
       "num_comments            3800\n",
       "permalink               3800\n",
       "thumbnail               3800\n",
       "title                   3800\n",
       "type                    3800\n",
       "ups                     3800\n",
       "dtype: int64"
      ]
     },
     "execution_count": 46,
     "metadata": {},
     "output_type": "execute_result"
    }
   ],
   "source": [
    "df.count()"
   ]
  },
  {
   "cell_type": "code",
   "execution_count": 14,
   "metadata": {
    "collapsed": false
   },
   "outputs": [
    {
     "data": {
      "text/plain": [
       "askscience      100\n",
       "sex             100\n",
       "facepalm        100\n",
       "bestof          100\n",
       "guns            100\n",
       "lifehacks       100\n",
       "worldnews       100\n",
       "space           100\n",
       "Android         100\n",
       "AskReddit       100\n",
       "funny           100\n",
       "Art             100\n",
       "Jokes           100\n",
       "trees           100\n",
       "food            100\n",
       "soccer          100\n",
       "WTF             100\n",
       "Conservative    100\n",
       "news            100\n",
       "programming     100\n",
       "creepy          100\n",
       "apple           100\n",
       "technology      100\n",
       "politics        100\n",
       "DIY             100\n",
       "teenagers       100\n",
       "videos          100\n",
       "MMA             100\n",
       "movies          100\n",
       "science         100\n",
       "comics          100\n",
       "rage            100\n",
       "nba             100\n",
       "trippy          100\n",
       "cats            100\n",
       "Music           100\n",
       "drunk           100\n",
       "Bitcoin         100\n",
       "pcs               9\n",
       "Name: Category, dtype: int64"
      ]
     },
     "execution_count": 14,
     "metadata": {},
     "output_type": "execute_result"
    }
   ],
   "source": [
    "df['Category'].value_counts()"
   ]
  },
  {
   "cell_type": "code",
   "execution_count": 15,
   "metadata": {
    "collapsed": true
   },
   "outputs": [],
   "source": [
    "##Deleting pcs"
   ]
  },
  {
   "cell_type": "code",
   "execution_count": 16,
   "metadata": {
    "collapsed": true
   },
   "outputs": [],
   "source": [
    "df = df[df['Category'] != 'pcs']"
   ]
  },
  {
   "cell_type": "code",
   "execution_count": 18,
   "metadata": {
    "collapsed": false
   },
   "outputs": [
    {
     "data": {
      "text/plain": [
       "Index([            u'Category', u'Category_description',\n",
       "       u'author_comment_karma',       u'author_is_gold',\n",
       "          u'author_link_karma',          u'author_name',\n",
       "                u'created_utc',                u'downs',\n",
       "               u'num_comments',            u'permalink',\n",
       "                  u'thumbnail',                u'title',\n",
       "                       u'type',                  u'ups'],\n",
       "      dtype='object')"
      ]
     },
     "execution_count": 18,
     "metadata": {},
     "output_type": "execute_result"
    }
   ],
   "source": [
    "df.keys()"
   ]
  },
  {
   "cell_type": "code",
   "execution_count": null,
   "metadata": {
    "collapsed": true
   },
   "outputs": [],
   "source": [
    "##Imputing missing type data with \"text\""
   ]
  },
  {
   "cell_type": "code",
   "execution_count": 28,
   "metadata": {
    "collapsed": false
   },
   "outputs": [
    {
     "name": "stderr",
     "output_type": "stream",
     "text": [
      "/home/manik/anaconda/lib/python2.7/site-packages/ipykernel/__main__.py:1: SettingWithCopyWarning: \n",
      "A value is trying to be set on a copy of a slice from a DataFrame.\n",
      "Try using .loc[row_indexer,col_indexer] = value instead\n",
      "\n",
      "See the caveats in the documentation: http://pandas.pydata.org/pandas-docs/stable/indexing.html#indexing-view-versus-copy\n",
      "  if __name__ == '__main__':\n"
     ]
    }
   ],
   "source": [
    "df['type'] = df['type'].fillna('txt')"
   ]
  },
  {
   "cell_type": "code",
   "execution_count": 29,
   "metadata": {
    "collapsed": false
   },
   "outputs": [
    {
     "data": {
      "text/plain": [
       "txt    2036\n",
       "img    1608\n",
       "vid     156\n",
       "Name: type, dtype: int64"
      ]
     },
     "execution_count": 29,
     "metadata": {},
     "output_type": "execute_result"
    }
   ],
   "source": [
    "df['type'].value_counts()"
   ]
  },
  {
   "cell_type": "code",
   "execution_count": 36,
   "metadata": {
    "collapsed": false
   },
   "outputs": [
    {
     "data": {
      "text/plain": [
       "False    2973\n",
       "True      827\n",
       "Name: author_is_gold, dtype: int64"
      ]
     },
     "execution_count": 36,
     "metadata": {},
     "output_type": "execute_result"
    }
   ],
   "source": [
    "df['author_is_gold'].value_counts()"
   ]
  },
  {
   "cell_type": "code",
   "execution_count": 34,
   "metadata": {
    "collapsed": true
   },
   "outputs": [],
   "source": [
    "## Since there are more false, impute NAN values with false"
   ]
  },
  {
   "cell_type": "code",
   "execution_count": 35,
   "metadata": {
    "collapsed": false
   },
   "outputs": [
    {
     "name": "stderr",
     "output_type": "stream",
     "text": [
      "/home/manik/anaconda/lib/python2.7/site-packages/ipykernel/__main__.py:1: SettingWithCopyWarning: \n",
      "A value is trying to be set on a copy of a slice from a DataFrame.\n",
      "Try using .loc[row_indexer,col_indexer] = value instead\n",
      "\n",
      "See the caveats in the documentation: http://pandas.pydata.org/pandas-docs/stable/indexing.html#indexing-view-versus-copy\n",
      "  if __name__ == '__main__':\n"
     ]
    }
   ],
   "source": [
    "df['author_is_gold'] = df['author_is_gold'].fillna(False)"
   ]
  },
  {
   "cell_type": "code",
   "execution_count": 42,
   "metadata": {
    "collapsed": false
   },
   "outputs": [
    {
     "data": {
      "text/plain": [
       "<matplotlib.axes._subplots.AxesSubplot at 0x7f21e629cf10>"
      ]
     },
     "execution_count": 42,
     "metadata": {},
     "output_type": "execute_result"
    },
    {
     "data": {
      "image/png": "[encoded data removed]",
      "text/plain": [
       "<matplotlib.figure.Figure at 0x7f21e6355c50>"
      ]
     },
     "metadata": {},
     "output_type": "display_data"
    }
   ],
   "source": [
    "df['author_comment_karma'].hist()"
   ]
  },
  {
   "cell_type": "code",
   "execution_count": 43,
   "metadata": {
    "collapsed": false
   },
   "outputs": [
    {
     "data": {
      "text/plain": [
       "58874.0     30\n",
       "74817.0     23\n",
       "0.0         15\n",
       "39885.0     14\n",
       "65380.0     12\n",
       "74894.0     12\n",
       "262031.0    11\n",
       "943890.0    11\n",
       "623219.0    10\n",
       "91067.0      9\n",
       "11577.0      9\n",
       "265693.0     8\n",
       "143635.0     8\n",
       "86034.0      8\n",
       "5857.0       7\n",
       "672775.0     7\n",
       "121155.0     7\n",
       "2192.0       7\n",
       "400.0        7\n",
       "31514.0      6\n",
       "60.0         6\n",
       "10616.0      6\n",
       "14.0         6\n",
       "24835.0      6\n",
       "91068.0      6\n",
       "18825.0      5\n",
       "61759.0      5\n",
       "28324.0      5\n",
       "33003.0      5\n",
       "405375.0     5\n",
       "            ..\n",
       "2438.0       1\n",
       "10645.0      1\n",
       "128130.0     1\n",
       "2435.0       1\n",
       "35202.0      1\n",
       "6529.0       1\n",
       "10624.0      1\n",
       "6525.0       1\n",
       "18812.0      1\n",
       "6547.0       1\n",
       "2454.0       1\n",
       "2480.0       1\n",
       "5685.0       1\n",
       "39892.0      1\n",
       "162222.0     1\n",
       "2477.0       1\n",
       "6571.0       1\n",
       "18858.0      1\n",
       "109881.0     1\n",
       "39335.0      1\n",
       "108963.0     1\n",
       "6554.0       1\n",
       "35234.0      1\n",
       "14753.0      1\n",
       "2464.0       1\n",
       "27039.0      1\n",
       "2462.0       1\n",
       "211357.0     1\n",
       "28757.0      1\n",
       "5968.0       1\n",
       "Name: author_comment_karma, dtype: int64"
      ]
     },
     "execution_count": 43,
     "metadata": {},
     "output_type": "execute_result"
    }
   ],
   "source": [
    "df['author_comment_karma'].value_counts()"
   ]
  },
  {
   "cell_type": "code",
   "execution_count": 40,
   "metadata": {
    "collapsed": false,
    "scrolled": false
   },
   "outputs": [
    {
     "data": {
      "text/plain": [
       "<matplotlib.axes._subplots.AxesSubplot at 0x7f21e6365650>"
      ]
     },
     "execution_count": 40,
     "metadata": {},
     "output_type": "execute_result"
    },
    {
     "data": {
      "image/png": "[encoded data removed]",
      "text/plain": [
       "<matplotlib.figure.Figure at 0x7f21e63fb650>"
      ]
     },
     "metadata": {},
     "output_type": "display_data"
    }
   ],
   "source": [
    "df['author_link_karma'].hist()"
   ]
  },
  {
   "cell_type": "code",
   "execution_count": 41,
   "metadata": {
    "collapsed": false
   },
   "outputs": [
    {
     "data": {
      "text/plain": [
       "1.0          62\n",
       "880515.0     30\n",
       "497155.0     23\n",
       "591545.0     14\n",
       "4327014.0    12\n",
       "2375874.0    11\n",
       "1281712.0     8\n",
       "209043.0      8\n",
       "3837692.0     8\n",
       "154130.0      7\n",
       "554681.0      7\n",
       "1996797.0     7\n",
       "7872655.0     7\n",
       "514353.0      7\n",
       "1889515.0     6\n",
       "365147.0      6\n",
       "29129.0       6\n",
       "619269.0      6\n",
       "209296.0      6\n",
       "3850975.0     5\n",
       "5085676.0     5\n",
       "554682.0      5\n",
       "107414.0      5\n",
       "1801677.0     5\n",
       "110644.0      5\n",
       "429275.0      5\n",
       "130670.0      5\n",
       "124735.0      4\n",
       "677037.0      4\n",
       "353321.0      4\n",
       "             ..\n",
       "6677.0        1\n",
       "6675.0        1\n",
       "117888.0      1\n",
       "31248.0       1\n",
       "279152.0      1\n",
       "6669.0        1\n",
       "2243084.0     1\n",
       "2571.0        1\n",
       "6691.0        1\n",
       "82443.0       1\n",
       "33507.0       1\n",
       "6697.0        1\n",
       "2628.0        1\n",
       "98933.0       1\n",
       "23105.0       1\n",
       "59692.0       1\n",
       "338494.0      1\n",
       "6717.0        1\n",
       "27196.0       1\n",
       "46217.0       1\n",
       "2618.0        1\n",
       "6712.0        1\n",
       "10804.0       1\n",
       "23090.0       1\n",
       "14543.0       1\n",
       "289327.0      1\n",
       "6702.0        1\n",
       "2401954.0     1\n",
       "11549.0       1\n",
       "7388.0        1\n",
       "Name: author_link_karma, dtype: int64"
      ]
     },
     "execution_count": 41,
     "metadata": {},
     "output_type": "execute_result"
    }
   ],
   "source": [
    "df['author_link_karma'].value_counts()"
   ]
  },
  {
   "cell_type": "code",
   "execution_count": 44,
   "metadata": {
    "collapsed": true
   },
   "outputs": [],
   "source": [
    "###just impute karma points with mean"
   ]
  },
  {
   "cell_type": "code",
   "execution_count": 45,
   "metadata": {
    "collapsed": false
   },
   "outputs": [
    {
     "name": "stderr",
     "output_type": "stream",
     "text": [
      "/home/manik/anaconda/lib/python2.7/site-packages/ipykernel/__main__.py:1: SettingWithCopyWarning: \n",
      "A value is trying to be set on a copy of a slice from a DataFrame.\n",
      "Try using .loc[row_indexer,col_indexer] = value instead\n",
      "\n",
      "See the caveats in the documentation: http://pandas.pydata.org/pandas-docs/stable/indexing.html#indexing-view-versus-copy\n",
      "  if __name__ == '__main__':\n",
      "/home/manik/anaconda/lib/python2.7/site-packages/ipykernel/__main__.py:2: SettingWithCopyWarning: \n",
      "A value is trying to be set on a copy of a slice from a DataFrame.\n",
      "Try using .loc[row_indexer,col_indexer] = value instead\n",
      "\n",
      "See the caveats in the documentation: http://pandas.pydata.org/pandas-docs/stable/indexing.html#indexing-view-versus-copy\n",
      "  from ipykernel import kernelapp as app\n"
     ]
    }
   ],
   "source": [
    "df['author_link_karma'] = df['author_link_karma'].fillna(df['author_link_karma'].mean())\n",
    "df['author_comment_karma'] = df['author_comment_karma'].fillna(df['author_comment_karma'].mean())"
   ]
  },
  {
   "cell_type": "code",
   "execution_count": 47,
   "metadata": {
    "collapsed": true
   },
   "outputs": [],
   "source": [
    "df.to_pickle('CleanedData.p')"
   ]
  },
  {
   "cell_type": "code",
   "execution_count": null,
   "metadata": {
    "collapsed": true
   },
   "outputs": [],
   "source": [
    "df = pd.read_pickle('C')"
   ]
  },
  {
   "cell_type": "code",
   "execution_count": 3,
   "metadata": {
    "collapsed": true
   },
   "outputs": [],
   "source": [
    "df = pd.read_pickle('CleanedData.p')"
   ]
  },
  {
   "cell_type": "code",
   "execution_count": 5,
   "metadata": {
    "collapsed": false
   },
   "outputs": [
    {
     "data": {
      "text/plain": [
       "38455"
      ]
     },
     "execution_count": 5,
     "metadata": {},
     "output_type": "execute_result"
    }
   ],
   "source": [
    "df['ups'].max()"
   ]
  },
  {
   "cell_type": "code",
   "execution_count": 6,
   "metadata": {
    "collapsed": false
   },
   "outputs": [
    {
     "data": {
      "text/plain": [
       "124"
      ]
     },
     "execution_count": 6,
     "metadata": {},
     "output_type": "execute_result"
    }
   ],
   "source": [
    "df['ups'].min()"
   ]
  },
  {
   "cell_type": "code",
   "execution_count": 7,
   "metadata": {
    "collapsed": false
   },
   "outputs": [
    {
     "data": {
      "text/plain": [
       "38331"
      ]
     },
     "execution_count": 7,
     "metadata": {},
     "output_type": "execute_result"
    }
   ],
   "source": [
    "df['ups'].max() - df['ups'].min()"
   ]
  },
  {
   "cell_type": "code",
   "execution_count": 10,
   "metadata": {
    "collapsed": false
   },
   "outputs": [
    {
     "data": {
      "text/plain": [
       "38455"
      ]
     },
     "execution_count": 10,
     "metadata": {},
     "output_type": "execute_result"
    }
   ],
   "source": [
    "df['ups'].max()"
   ]
  },
  {
   "cell_type": "code",
   "execution_count": 9,
   "metadata": {
    "collapsed": false
   },
   "outputs": [
    {
     "data": {
      "text/plain": [
       "<matplotlib.axes._subplots.AxesSubplot at 0x7faeb07227d0>"
      ]
     },
     "execution_count": 9,
     "metadata": {},
     "output_type": "execute_result"
    },
    {
     "data": {
      "image/png": "[encoded data removed]",
      "text/plain": [
       "<matplotlib.figure.Figure at 0x7faeb0722ad0>"
      ]
     },
     "metadata": {},
     "output_type": "display_data"
    }
   ],
   "source": [
    "df['ups'].hist()"
   ]
  },
  {
   "cell_type": "code",
   "execution_count": 13,
   "metadata": {
    "collapsed": false
   },
   "outputs": [
    {
     "data": {
      "text/plain": [
       "array([u'self',\n",
       "       u'http://a.thumbs.redditmedia.com/WStAuw8Vs-DnA4WxElIn3jHAsWeHw40aziQ6DiPE8E8.jpg',\n",
       "       u'http://b.thumbs.redditmedia.com/_5hMWMFYuwv2ny5O955sZCfbLSmjCGv-EN4IS3FKTdA.jpg',\n",
       "       ...,\n",
       "       u'http://b.thumbs.redditmedia.com/-92jYi6j_0mlk7hBdm6XjH9RTK5ftNl-942Y7ZeqTSU.jpg',\n",
       "       u'http://b.thumbs.redditmedia.com/dm5_9ZESyymavKxKVR-yyhGGWkNxxDuSdKzlRht3P8I.jpg',\n",
       "       u'http://b.thumbs.redditmedia.com/vD_1WKUpQ74PjnQ1.jpg'], dtype=object)"
      ]
     },
     "execution_count": 13,
     "metadata": {},
     "output_type": "execute_result"
    }
   ],
   "source": [
    "df['thumbnail'].unique()"
   ]
  },
  {
   "cell_type": "code",
   "execution_count": 14,
   "metadata": {
    "collapsed": false
   },
   "outputs": [
    {
     "data": {
      "text/plain": [
       "38455"
      ]
     },
     "execution_count": 14,
     "metadata": {},
     "output_type": "execute_result"
    }
   ],
   "source": [
    "df['ups'].max()"
   ]
  },
  {
   "cell_type": "code",
   "execution_count": 16,
   "metadata": {
    "collapsed": false
   },
   "outputs": [],
   "source": [
    "row = df[df['ups'] == 38455]"
   ]
  },
  {
   "cell_type": "code",
   "execution_count": 22,
   "metadata": {
    "collapsed": false
   },
   "outputs": [
    {
     "data": {
      "text/html": [
       "<div>\n",
       "<table border=\"1\" class=\"dataframe\">\n",
       "  <thead>\n",
       "    <tr style=\"text-align: right;\">\n",
       "      <th></th>\n",
       "      <th>Category</th>\n",
       "      <th>Category_description</th>\n",
       "      <th>author_comment_karma</th>\n",
       "      <th>author_is_gold</th>\n",
       "      <th>author_link_karma</th>\n",
       "      <th>author_name</th>\n",
       "      <th>created_utc</th>\n",
       "      <th>downs</th>\n",
       "      <th>num_comments</th>\n",
       "      <th>permalink</th>\n",
       "      <th>thumbnail</th>\n",
       "      <th>title</th>\n",
       "      <th>type</th>\n",
       "      <th>ups</th>\n",
       "    </tr>\n",
       "  </thead>\n",
       "  <tbody>\n",
       "    <tr>\n",
       "      <th>200</th>\n",
       "      <td>AskReddit</td>\n",
       "      <td>/r/AskReddit is the place to ask and answer th...</td>\n",
       "      <td>270316.0</td>\n",
       "      <td>True</td>\n",
       "      <td>11657.0</td>\n",
       "      <td>DO_U_EVN_SPAGHETTI</td>\n",
       "      <td>1.417209e+09</td>\n",
       "      <td>0</td>\n",
       "      <td>7769</td>\n",
       "      <td>https://www.reddit.com/r/AskReddit/comments/2n...</td>\n",
       "      <td></td>\n",
       "      <td>What tasty food would be distusting if eaten o...</td>\n",
       "      <td>txt</td>\n",
       "      <td>38455</td>\n",
       "    </tr>\n",
       "  </tbody>\n",
       "</table>\n",
       "</div>"
      ],
      "text/plain": [
       "      Category                               Category_description  \\\n",
       "200  AskReddit  /r/AskReddit is the place to ask and answer th...   \n",
       "\n",
       "     author_comment_karma author_is_gold  author_link_karma  \\\n",
       "200              270316.0           True            11657.0   \n",
       "\n",
       "            author_name   created_utc  downs  num_comments  \\\n",
       "200  DO_U_EVN_SPAGHETTI  1.417209e+09      0          7769   \n",
       "\n",
       "                                             permalink thumbnail  \\\n",
       "200  https://www.reddit.com/r/AskReddit/comments/2n...             \n",
       "\n",
       "                                                 title type    ups  \n",
       "200  What tasty food would be distusting if eaten o...  txt  38455  "
      ]
     },
     "execution_count": 22,
     "metadata": {},
     "output_type": "execute_result"
    }
   ],
   "source": [
    "row"
   ]
  },
  {
   "cell_type": "code",
   "execution_count": null,
   "metadata": {
    "collapsed": true
   },
   "outputs": [],
   "source": []
  }
 ],
 "metadata": {
  "kernelspec": {
   "display_name": "Python 2",
   "language": "python",
   "name": "python2"
  },
  "language_info": {
   "codemirror_mode": {
    "name": "ipython",
    "version": 2
   },
   "file_extension": ".py",
   "mimetype": "text/x-python",
   "name": "python",
   "nbconvert_exporter": "python",
   "pygments_lexer": "ipython2",
   "version": "2.7.11"
  }
 },
 "nbformat": 4,
 "nbformat_minor": 0
}
